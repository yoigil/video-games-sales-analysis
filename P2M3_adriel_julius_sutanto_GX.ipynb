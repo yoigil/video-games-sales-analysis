{
 "cells": [
  {
   "cell_type": "code",
   "execution_count": 1,
   "metadata": {},
   "outputs": [],
   "source": [
    "# import libraries\n",
    "from great_expectations.data_context import FileDataContext\n",
    "import great_expectations as gx"
   ]
  },
  {
   "cell_type": "code",
   "execution_count": 2,
   "metadata": {},
   "outputs": [],
   "source": [
    "# create a context\n",
    "context = FileDataContext.create(project_root_dir='./')"
   ]
  },
  {
   "cell_type": "code",
   "execution_count": 3,
   "metadata": {},
   "outputs": [],
   "source": [
    "# naming the datasource\n",
    "ds_name = 'data_clean'\n",
    "\n",
    "# define the datasource as pandas\n",
    "datasource = context.sources.add_pandas(ds_name)\n",
    "\n",
    "# naming the asset\n",
    "asset_name = 'data1'\n",
    "\n",
    "# define the file path\n",
    "path = 'C:\\\\Users\\\\Asus\\\\github-classroom\\\\FTDS-assignment-bay\\\\p2-ftds026-rmt-m3-yoigil\\\\P2M3_adriel_julius_sutanto_data_clean.csv'\n",
    "\n",
    "# define the asset\n",
    "asset = datasource.add_csv_asset(asset_name, filepath_or_buffer=path)\n",
    "\n",
    "# Build batch request\n",
    "batch_request = asset.build_batch_request()"
   ]
  },
  {
   "cell_type": "code",
   "execution_count": 4,
   "metadata": {},
   "outputs": [
    {
     "data": {
      "application/vnd.jupyter.widget-view+json": {
       "model_id": "d8e943cd6b3749288f1b52a1a62b7b6f",
       "version_major": 2,
       "version_minor": 0
      },
      "text/plain": [
       "Calculating Metrics:   0%|          | 0/1 [00:00<?, ?it/s]"
      ]
     },
     "metadata": {},
     "output_type": "display_data"
    },
    {
     "data": {
      "text/html": [
       "<div>\n",
       "<style scoped>\n",
       "    .dataframe tbody tr th:only-of-type {\n",
       "        vertical-align: middle;\n",
       "    }\n",
       "\n",
       "    .dataframe tbody tr th {\n",
       "        vertical-align: top;\n",
       "    }\n",
       "\n",
       "    .dataframe thead th {\n",
       "        text-align: right;\n",
       "    }\n",
       "</style>\n",
       "<table border=\"1\" class=\"dataframe\">\n",
       "  <thead>\n",
       "    <tr style=\"text-align: right;\">\n",
       "      <th></th>\n",
       "      <th>Unnamed: 0</th>\n",
       "      <th>rank</th>\n",
       "      <th>name</th>\n",
       "      <th>platform</th>\n",
       "      <th>year</th>\n",
       "      <th>genre</th>\n",
       "      <th>publisher</th>\n",
       "      <th>n_sales</th>\n",
       "      <th>e_sales</th>\n",
       "      <th>j_sales</th>\n",
       "      <th>other_sales</th>\n",
       "      <th>global_sales</th>\n",
       "    </tr>\n",
       "  </thead>\n",
       "  <tbody>\n",
       "    <tr>\n",
       "      <th>0</th>\n",
       "      <td>0</td>\n",
       "      <td>1</td>\n",
       "      <td>Wii Sports</td>\n",
       "      <td>Wii</td>\n",
       "      <td>2006</td>\n",
       "      <td>Sports</td>\n",
       "      <td>Nintendo</td>\n",
       "      <td>41.49</td>\n",
       "      <td>29.02</td>\n",
       "      <td>3.77</td>\n",
       "      <td>8.46</td>\n",
       "      <td>82.74</td>\n",
       "    </tr>\n",
       "    <tr>\n",
       "      <th>1</th>\n",
       "      <td>1</td>\n",
       "      <td>2</td>\n",
       "      <td>Super Mario Bros.</td>\n",
       "      <td>NES</td>\n",
       "      <td>1985</td>\n",
       "      <td>Platform</td>\n",
       "      <td>Nintendo</td>\n",
       "      <td>29.08</td>\n",
       "      <td>3.58</td>\n",
       "      <td>6.81</td>\n",
       "      <td>0.77</td>\n",
       "      <td>40.24</td>\n",
       "    </tr>\n",
       "    <tr>\n",
       "      <th>2</th>\n",
       "      <td>2</td>\n",
       "      <td>3</td>\n",
       "      <td>Mario Kart Wii</td>\n",
       "      <td>Wii</td>\n",
       "      <td>2008</td>\n",
       "      <td>Racing</td>\n",
       "      <td>Nintendo</td>\n",
       "      <td>15.85</td>\n",
       "      <td>12.88</td>\n",
       "      <td>3.79</td>\n",
       "      <td>3.31</td>\n",
       "      <td>35.82</td>\n",
       "    </tr>\n",
       "    <tr>\n",
       "      <th>3</th>\n",
       "      <td>3</td>\n",
       "      <td>4</td>\n",
       "      <td>Wii Sports Resort</td>\n",
       "      <td>Wii</td>\n",
       "      <td>2009</td>\n",
       "      <td>Sports</td>\n",
       "      <td>Nintendo</td>\n",
       "      <td>15.75</td>\n",
       "      <td>11.01</td>\n",
       "      <td>3.28</td>\n",
       "      <td>2.96</td>\n",
       "      <td>33.00</td>\n",
       "    </tr>\n",
       "    <tr>\n",
       "      <th>4</th>\n",
       "      <td>4</td>\n",
       "      <td>5</td>\n",
       "      <td>Pokemon Red/Pokemon Blue</td>\n",
       "      <td>GB</td>\n",
       "      <td>1996</td>\n",
       "      <td>Role-Playing</td>\n",
       "      <td>Nintendo</td>\n",
       "      <td>11.27</td>\n",
       "      <td>8.89</td>\n",
       "      <td>10.22</td>\n",
       "      <td>1.00</td>\n",
       "      <td>31.37</td>\n",
       "    </tr>\n",
       "  </tbody>\n",
       "</table>\n",
       "</div>"
      ],
      "text/plain": [
       "   Unnamed: 0  rank                      name platform  year         genre  \\\n",
       "0           0     1                Wii Sports      Wii  2006        Sports   \n",
       "1           1     2         Super Mario Bros.      NES  1985      Platform   \n",
       "2           2     3            Mario Kart Wii      Wii  2008        Racing   \n",
       "3           3     4         Wii Sports Resort      Wii  2009        Sports   \n",
       "4           4     5  Pokemon Red/Pokemon Blue       GB  1996  Role-Playing   \n",
       "\n",
       "  publisher  n_sales  e_sales  j_sales  other_sales  global_sales  \n",
       "0  Nintendo    41.49    29.02     3.77         8.46         82.74  \n",
       "1  Nintendo    29.08     3.58     6.81         0.77         40.24  \n",
       "2  Nintendo    15.85    12.88     3.79         3.31         35.82  \n",
       "3  Nintendo    15.75    11.01     3.28         2.96         33.00  \n",
       "4  Nintendo    11.27     8.89    10.22         1.00         31.37  "
      ]
     },
     "execution_count": 4,
     "metadata": {},
     "output_type": "execute_result"
    }
   ],
   "source": [
    "# Creat an expectation suite\n",
    "expectation_suite_name = 'expectation-1'\n",
    "context.add_or_update_expectation_suite(expectation_suite_name)\n",
    "\n",
    "# Create a validator using above expectation suite\n",
    "validator = context.get_validator(\n",
    "    batch_request = batch_request,\n",
    "    expectation_suite_name = expectation_suite_name\n",
    ")\n",
    "\n",
    "# Check the validator\n",
    "validator.head()"
   ]
  },
  {
   "cell_type": "code",
   "execution_count": 5,
   "metadata": {},
   "outputs": [
    {
     "data": {
      "application/vnd.jupyter.widget-view+json": {
       "model_id": "e27a7ec0925b421aaca833a9debcb4ef",
       "version_major": 2,
       "version_minor": 0
      },
      "text/plain": [
       "Calculating Metrics:   0%|          | 0/6 [00:00<?, ?it/s]"
      ]
     },
     "metadata": {},
     "output_type": "display_data"
    },
    {
     "data": {
      "text/plain": [
       "{\n",
       "  \"success\": true,\n",
       "  \"result\": {\n",
       "    \"element_count\": 16598,\n",
       "    \"unexpected_count\": 0,\n",
       "    \"unexpected_percent\": 0.0,\n",
       "    \"partial_unexpected_list\": []\n",
       "  },\n",
       "  \"exception_info\": {\n",
       "    \"raised_exception\": false,\n",
       "    \"exception_traceback\": null,\n",
       "    \"exception_message\": null\n",
       "  },\n",
       "  \"meta\": {}\n",
       "}"
      ]
     },
     "execution_count": 5,
     "metadata": {},
     "output_type": "execute_result"
    }
   ],
   "source": [
    "# expect to be not null\n",
    "validator.expect_column_values_to_not_be_null('name')"
   ]
  },
  {
   "cell_type": "markdown",
   "metadata": {},
   "source": [
    "From this validation, it can be confirmed that the dataset does not contain any missing values."
   ]
  },
  {
   "cell_type": "code",
   "execution_count": 6,
   "metadata": {},
   "outputs": [
    {
     "data": {
      "application/vnd.jupyter.widget-view+json": {
       "model_id": "4635ee684ad2464b95b26f8d5e851330",
       "version_major": 2,
       "version_minor": 0
      },
      "text/plain": [
       "Calculating Metrics:   0%|          | 0/8 [00:00<?, ?it/s]"
      ]
     },
     "metadata": {},
     "output_type": "display_data"
    },
    {
     "data": {
      "text/plain": [
       "{\n",
       "  \"success\": true,\n",
       "  \"result\": {\n",
       "    \"element_count\": 16598,\n",
       "    \"unexpected_count\": 0,\n",
       "    \"unexpected_percent\": 0.0,\n",
       "    \"partial_unexpected_list\": [],\n",
       "    \"missing_count\": 0,\n",
       "    \"missing_percent\": 0.0,\n",
       "    \"unexpected_percent_total\": 0.0,\n",
       "    \"unexpected_percent_nonmissing\": 0.0\n",
       "  },\n",
       "  \"exception_info\": {\n",
       "    \"raised_exception\": false,\n",
       "    \"exception_traceback\": null,\n",
       "    \"exception_message\": null\n",
       "  },\n",
       "  \"meta\": {}\n",
       "}"
      ]
     },
     "execution_count": 6,
     "metadata": {},
     "output_type": "execute_result"
    }
   ],
   "source": [
    "# expect to be unique\n",
    "validator.expect_column_values_to_be_unique('rank')"
   ]
  },
  {
   "cell_type": "markdown",
   "metadata": {},
   "source": [
    "From this validation, it can be confirmed that the column rank does not contain any duplicate values. Since the column rank tells the ranking of sales by video games, it appeared that there are no games that having the same rank, in other words, all games in the list have different values of sales amount."
   ]
  },
  {
   "cell_type": "code",
   "execution_count": 7,
   "metadata": {},
   "outputs": [
    {
     "data": {
      "application/vnd.jupyter.widget-view+json": {
       "model_id": "3e6644083fcf43b6b1ca09746a66dd51",
       "version_major": 2,
       "version_minor": 0
      },
      "text/plain": [
       "Calculating Metrics:   0%|          | 0/8 [00:00<?, ?it/s]"
      ]
     },
     "metadata": {},
     "output_type": "display_data"
    },
    {
     "data": {
      "text/plain": [
       "{\n",
       "  \"success\": true,\n",
       "  \"result\": {\n",
       "    \"element_count\": 16598,\n",
       "    \"unexpected_count\": 0,\n",
       "    \"unexpected_percent\": 0.0,\n",
       "    \"partial_unexpected_list\": [],\n",
       "    \"missing_count\": 0,\n",
       "    \"missing_percent\": 0.0,\n",
       "    \"unexpected_percent_total\": 0.0,\n",
       "    \"unexpected_percent_nonmissing\": 0.0\n",
       "  },\n",
       "  \"exception_info\": {\n",
       "    \"raised_exception\": false,\n",
       "    \"exception_traceback\": null,\n",
       "    \"exception_message\": null\n",
       "  },\n",
       "  \"meta\": {}\n",
       "}"
      ]
     },
     "execution_count": 7,
     "metadata": {},
     "output_type": "execute_result"
    }
   ],
   "source": [
    "# expect column year to be between 1980 and 2020\n",
    "validator.expect_column_values_to_be_between(\n",
    "    column='year', min_value=1980, max_value=2020\n",
    ")"
   ]
  },
  {
   "cell_type": "markdown",
   "metadata": {},
   "source": [
    "From this validation, it can be confirmed that the column year in within the range of 1980 and 2020. Since the column year tells the year of which a game is released, it appeared that there are the games in this list are released in between 1980 and 2020."
   ]
  },
  {
   "cell_type": "code",
   "execution_count": 8,
   "metadata": {},
   "outputs": [
    {
     "data": {
      "application/vnd.jupyter.widget-view+json": {
       "model_id": "0f4f0a02ce834574975e8d7cb1188a88",
       "version_major": 2,
       "version_minor": 0
      },
      "text/plain": [
       "Calculating Metrics:   0%|          | 0/8 [00:00<?, ?it/s]"
      ]
     },
     "metadata": {},
     "output_type": "display_data"
    },
    {
     "data": {
      "text/plain": [
       "{\n",
       "  \"success\": true,\n",
       "  \"result\": {\n",
       "    \"element_count\": 16598,\n",
       "    \"unexpected_count\": 0,\n",
       "    \"unexpected_percent\": 0.0,\n",
       "    \"partial_unexpected_list\": [],\n",
       "    \"missing_count\": 0,\n",
       "    \"missing_percent\": 0.0,\n",
       "    \"unexpected_percent_total\": 0.0,\n",
       "    \"unexpected_percent_nonmissing\": 0.0\n",
       "  },\n",
       "  \"exception_info\": {\n",
       "    \"raised_exception\": false,\n",
       "    \"exception_traceback\": null,\n",
       "    \"exception_message\": null\n",
       "  },\n",
       "  \"meta\": {}\n",
       "}"
      ]
     },
     "execution_count": 8,
     "metadata": {},
     "output_type": "execute_result"
    }
   ],
   "source": [
    "# expect column genre to be in set of strings\n",
    "validator.expect_column_values_to_be_in_set(\n",
    "    'genre', ['Platform', 'Role-Playing', 'Sports', 'Misc', 'Racing', 'Action', 'Puzzle', 'Simulation', 'Shooter', 'Fighting', 'Adventure', 'Strategy']\n",
    ")"
   ]
  },
  {
   "cell_type": "markdown",
   "metadata": {},
   "source": [
    "From this validation, it can be confirmed that the column genre has 12 unique values. Since the column genre tells the genre of which a game is categorized, it appeared that each game is categorized to one of these classes."
   ]
  },
  {
   "cell_type": "code",
   "execution_count": 9,
   "metadata": {},
   "outputs": [
    {
     "data": {
      "application/vnd.jupyter.widget-view+json": {
       "model_id": "10a255b42ff04b618855ffb8e758473d",
       "version_major": 2,
       "version_minor": 0
      },
      "text/plain": [
       "Calculating Metrics:   0%|          | 0/1 [00:00<?, ?it/s]"
      ]
     },
     "metadata": {},
     "output_type": "display_data"
    },
    {
     "data": {
      "text/plain": [
       "{\n",
       "  \"success\": true,\n",
       "  \"result\": {\n",
       "    \"observed_value\": \"float64\"\n",
       "  },\n",
       "  \"exception_info\": {\n",
       "    \"raised_exception\": false,\n",
       "    \"exception_traceback\": null,\n",
       "    \"exception_message\": null\n",
       "  },\n",
       "  \"meta\": {}\n",
       "}"
      ]
     },
     "execution_count": 9,
     "metadata": {},
     "output_type": "execute_result"
    }
   ],
   "source": [
    "# expect column global_sales to be in type of integer/float\n",
    "validator.expect_column_values_to_be_in_type_list('global_sales', ['integer', 'float'])"
   ]
  },
  {
   "cell_type": "markdown",
   "metadata": {},
   "source": [
    "From this validation, it can be confirmed that the column global_sales in within the range of 1980 and 2020. Since the column global_sales tells the total worldwide sales of a game, it means that it can be confirmed that the all data entries are in the type of either integer or float."
   ]
  },
  {
   "cell_type": "code",
   "execution_count": 10,
   "metadata": {},
   "outputs": [
    {
     "data": {
      "application/vnd.jupyter.widget-view+json": {
       "model_id": "a5c23e2a2814442f899f8b9c0506d5e1",
       "version_major": 2,
       "version_minor": 0
      },
      "text/plain": [
       "Calculating Metrics:   0%|          | 0/4 [00:00<?, ?it/s]"
      ]
     },
     "metadata": {},
     "output_type": "display_data"
    },
    {
     "data": {
      "text/plain": [
       "{\n",
       "  \"success\": true,\n",
       "  \"result\": {\n",
       "    \"observed_value\": 0.8166830292988796\n",
       "  },\n",
       "  \"exception_info\": {\n",
       "    \"raised_exception\": false,\n",
       "    \"exception_traceback\": null,\n",
       "    \"exception_message\": null\n",
       "  },\n",
       "  \"meta\": {}\n",
       "}"
      ]
     },
     "execution_count": 10,
     "metadata": {},
     "output_type": "execute_result"
    }
   ],
   "source": [
    "# expect standard deviation of n_sales to be between 0 and 1\n",
    "validator.expect_column_stdev_to_be_between(column='n_sales', min_value=0, max_value=1)"
   ]
  },
  {
   "cell_type": "code",
   "execution_count": 11,
   "metadata": {},
   "outputs": [
    {
     "data": {
      "application/vnd.jupyter.widget-view+json": {
       "model_id": "1d853e46e56141dbb6a7a6e2f2649a90",
       "version_major": 2,
       "version_minor": 0
      },
      "text/plain": [
       "Calculating Metrics:   0%|          | 0/4 [00:00<?, ?it/s]"
      ]
     },
     "metadata": {},
     "output_type": "display_data"
    },
    {
     "data": {
      "text/plain": [
       "{\n",
       "  \"success\": true,\n",
       "  \"result\": {\n",
       "    \"observed_value\": 0.30929064808220297\n",
       "  },\n",
       "  \"exception_info\": {\n",
       "    \"raised_exception\": false,\n",
       "    \"exception_traceback\": null,\n",
       "    \"exception_message\": null\n",
       "  },\n",
       "  \"meta\": {}\n",
       "}"
      ]
     },
     "execution_count": 11,
     "metadata": {},
     "output_type": "execute_result"
    }
   ],
   "source": [
    "# expect standard deviation of j_sales to be between 0 and 1\n",
    "validator.expect_column_stdev_to_be_between(column='j_sales', min_value=0, max_value=1)"
   ]
  },
  {
   "cell_type": "code",
   "execution_count": 12,
   "metadata": {},
   "outputs": [
    {
     "data": {
      "application/vnd.jupyter.widget-view+json": {
       "model_id": "8377a756e20a418aa6aa4a7c889a0296",
       "version_major": 2,
       "version_minor": 0
      },
      "text/plain": [
       "Calculating Metrics:   0%|          | 0/4 [00:00<?, ?it/s]"
      ]
     },
     "metadata": {},
     "output_type": "display_data"
    },
    {
     "data": {
      "text/plain": [
       "{\n",
       "  \"success\": true,\n",
       "  \"result\": {\n",
       "    \"observed_value\": 0.5053512312869116\n",
       "  },\n",
       "  \"exception_info\": {\n",
       "    \"raised_exception\": false,\n",
       "    \"exception_traceback\": null,\n",
       "    \"exception_message\": null\n",
       "  },\n",
       "  \"meta\": {}\n",
       "}"
      ]
     },
     "execution_count": 12,
     "metadata": {},
     "output_type": "execute_result"
    }
   ],
   "source": [
    "# expect standard deviation of e_sales to be between 0 and 1\n",
    "validator.expect_column_stdev_to_be_between(column='e_sales', min_value=0, max_value=1)"
   ]
  },
  {
   "cell_type": "markdown",
   "metadata": {},
   "source": [
    "As I checked the standard deviation of n_sales, e_sales, and j_sales, it seems that all of the standard deviations are below 1. This means that sales in all North America, European Union, and Japan have a low standard deviation. In other words, all data points of these columns are clustered near the mean of each respective column. Therefore, the variance of these columns are also low."
   ]
  },
  {
   "cell_type": "code",
   "execution_count": 13,
   "metadata": {},
   "outputs": [
    {
     "data": {
      "application/vnd.jupyter.widget-view+json": {
       "model_id": "80bb8af711ec4cd6a14248fc9d77414a",
       "version_major": 2,
       "version_minor": 0
      },
      "text/plain": [
       "Calculating Metrics:   0%|          | 0/1 [00:00<?, ?it/s]"
      ]
     },
     "metadata": {},
     "output_type": "display_data"
    },
    {
     "data": {
      "text/plain": [
       "{\n",
       "  \"success\": true,\n",
       "  \"result\": {\n",
       "    \"observed_value\": 16598\n",
       "  },\n",
       "  \"exception_info\": {\n",
       "    \"raised_exception\": false,\n",
       "    \"exception_traceback\": null,\n",
       "    \"exception_message\": null\n",
       "  },\n",
       "  \"meta\": {}\n",
       "}"
      ]
     },
     "execution_count": 13,
     "metadata": {},
     "output_type": "execute_result"
    }
   ],
   "source": [
    "# expect the table row to be equal to 16598\n",
    "validator.expect_table_row_count_to_equal(16598)"
   ]
  },
  {
   "cell_type": "markdown",
   "metadata": {},
   "source": [
    "From this validation, it can be confirmed that the dataset has data entries of 16598 rows."
   ]
  },
  {
   "cell_type": "code",
   "execution_count": 14,
   "metadata": {},
   "outputs": [
    {
     "data": {
      "application/vnd.jupyter.widget-view+json": {
       "model_id": "546b20a9b7f94f72aecb267dd3f09234",
       "version_major": 2,
       "version_minor": 0
      },
      "text/plain": [
       "Calculating Metrics:   0%|          | 0/4 [00:00<?, ?it/s]"
      ]
     },
     "metadata": {},
     "output_type": "display_data"
    },
    {
     "data": {
      "text/plain": [
       "{\n",
       "  \"success\": true,\n",
       "  \"result\": {\n",
       "    \"observed_value\": 0.0\n",
       "  },\n",
       "  \"exception_info\": {\n",
       "    \"raised_exception\": false,\n",
       "    \"exception_traceback\": null,\n",
       "    \"exception_message\": null\n",
       "  },\n",
       "  \"meta\": {}\n",
       "}"
      ]
     },
     "execution_count": 14,
     "metadata": {},
     "output_type": "execute_result"
    }
   ],
   "source": [
    "# expect the minimum value of j_sales to be between 0 and 0.1\n",
    "validator.expect_column_min_to_be_between(column='j_sales', min_value=0, max_value=0.1)"
   ]
  },
  {
   "cell_type": "code",
   "execution_count": 15,
   "metadata": {},
   "outputs": [
    {
     "data": {
      "application/vnd.jupyter.widget-view+json": {
       "model_id": "06d68ce32bd444a290476e9af0257a59",
       "version_major": 2,
       "version_minor": 0
      },
      "text/plain": [
       "Calculating Metrics:   0%|          | 0/4 [00:00<?, ?it/s]"
      ]
     },
     "metadata": {},
     "output_type": "display_data"
    },
    {
     "data": {
      "text/plain": [
       "{\n",
       "  \"success\": true,\n",
       "  \"result\": {\n",
       "    \"observed_value\": 0.0\n",
       "  },\n",
       "  \"exception_info\": {\n",
       "    \"raised_exception\": false,\n",
       "    \"exception_traceback\": null,\n",
       "    \"exception_message\": null\n",
       "  },\n",
       "  \"meta\": {}\n",
       "}"
      ]
     },
     "execution_count": 15,
     "metadata": {},
     "output_type": "execute_result"
    }
   ],
   "source": [
    "# expect the minimum value of n_sales to be between 0 and 0.1\n",
    "validator.expect_column_min_to_be_between(column='n_sales', min_value=0, max_value=0.1)"
   ]
  },
  {
   "cell_type": "code",
   "execution_count": 16,
   "metadata": {},
   "outputs": [
    {
     "data": {
      "application/vnd.jupyter.widget-view+json": {
       "model_id": "b0ad95022a404c7a8cd58b25a0a67068",
       "version_major": 2,
       "version_minor": 0
      },
      "text/plain": [
       "Calculating Metrics:   0%|          | 0/4 [00:00<?, ?it/s]"
      ]
     },
     "metadata": {},
     "output_type": "display_data"
    },
    {
     "data": {
      "text/plain": [
       "{\n",
       "  \"success\": true,\n",
       "  \"result\": {\n",
       "    \"observed_value\": 0.0\n",
       "  },\n",
       "  \"exception_info\": {\n",
       "    \"raised_exception\": false,\n",
       "    \"exception_traceback\": null,\n",
       "    \"exception_message\": null\n",
       "  },\n",
       "  \"meta\": {}\n",
       "}"
      ]
     },
     "execution_count": 16,
     "metadata": {},
     "output_type": "execute_result"
    }
   ],
   "source": [
    "# expect the minimum value of e_sales to be between 0 and 0.1\n",
    "validator.expect_column_min_to_be_between(column='e_sales', min_value=0, max_value=0.1)"
   ]
  },
  {
   "cell_type": "markdown",
   "metadata": {},
   "source": [
    "As I checked the minimum values of n_sales, e_sales, and j_sales, it seems that there are data points that have 0 as their value. This indicated that there are games that does not get sold at all either in North American market, European market, or Japanese market."
   ]
  },
  {
   "cell_type": "code",
   "execution_count": 17,
   "metadata": {},
   "outputs": [],
   "source": [
    "# Save into Expectation Suite\n",
    "validator.save_expectation_suite(discard_failed_expectations=False)"
   ]
  },
  {
   "cell_type": "code",
   "execution_count": 18,
   "metadata": {},
   "outputs": [],
   "source": [
    "# Create a checkpoint\n",
    "checkpoint_1 = context.add_or_update_checkpoint(\n",
    "    name = 'checkpoint_1',\n",
    "    validator = validator,\n",
    ")"
   ]
  },
  {
   "cell_type": "code",
   "execution_count": 19,
   "metadata": {},
   "outputs": [
    {
     "data": {
      "application/vnd.jupyter.widget-view+json": {
       "model_id": "4b93b6924bb54cb1b8e06e16eed5f75a",
       "version_major": 2,
       "version_minor": 0
      },
      "text/plain": [
       "Calculating Metrics:   0%|          | 0/35 [00:00<?, ?it/s]"
      ]
     },
     "metadata": {},
     "output_type": "display_data"
    },
    {
     "data": {
      "text/plain": [
       "{\n",
       "  \"run_id\": {\n",
       "    \"run_time\": \"2024-01-29T17:10:20.574454+08:00\",\n",
       "    \"run_name\": null\n",
       "  },\n",
       "  \"run_results\": {\n",
       "    \"ValidationResultIdentifier::expectation-1/__none__/20240129T091020.574454Z/data_clean-data1\": {\n",
       "      \"validation_result\": {\n",
       "        \"evaluation_parameters\": {},\n",
       "        \"success\": true,\n",
       "        \"statistics\": {\n",
       "          \"evaluated_expectations\": 12,\n",
       "          \"successful_expectations\": 12,\n",
       "          \"unsuccessful_expectations\": 0,\n",
       "          \"success_percent\": 100.0\n",
       "        },\n",
       "        \"results\": [\n",
       "          {\n",
       "            \"success\": true,\n",
       "            \"result\": {\n",
       "              \"element_count\": 16598,\n",
       "              \"unexpected_count\": 0,\n",
       "              \"unexpected_percent\": 0.0,\n",
       "              \"partial_unexpected_list\": [],\n",
       "              \"partial_unexpected_counts\": [],\n",
       "              \"partial_unexpected_index_list\": []\n",
       "            },\n",
       "            \"exception_info\": {\n",
       "              \"raised_exception\": false,\n",
       "              \"exception_traceback\": null,\n",
       "              \"exception_message\": null\n",
       "            },\n",
       "            \"expectation_config\": {\n",
       "              \"kwargs\": {\n",
       "                \"column\": \"name\",\n",
       "                \"batch_id\": \"data_clean-data1\"\n",
       "              },\n",
       "              \"meta\": {},\n",
       "              \"expectation_type\": \"expect_column_values_to_not_be_null\"\n",
       "            },\n",
       "            \"meta\": {}\n",
       "          },\n",
       "          {\n",
       "            \"success\": true,\n",
       "            \"result\": {\n",
       "              \"element_count\": 16598,\n",
       "              \"unexpected_count\": 0,\n",
       "              \"unexpected_percent\": 0.0,\n",
       "              \"partial_unexpected_list\": [],\n",
       "              \"missing_count\": 0,\n",
       "              \"missing_percent\": 0.0,\n",
       "              \"unexpected_percent_total\": 0.0,\n",
       "              \"unexpected_percent_nonmissing\": 0.0,\n",
       "              \"partial_unexpected_counts\": [],\n",
       "              \"partial_unexpected_index_list\": []\n",
       "            },\n",
       "            \"exception_info\": {\n",
       "              \"raised_exception\": false,\n",
       "              \"exception_traceback\": null,\n",
       "              \"exception_message\": null\n",
       "            },\n",
       "            \"expectation_config\": {\n",
       "              \"kwargs\": {\n",
       "                \"column\": \"rank\",\n",
       "                \"batch_id\": \"data_clean-data1\"\n",
       "              },\n",
       "              \"meta\": {},\n",
       "              \"expectation_type\": \"expect_column_values_to_be_unique\"\n",
       "            },\n",
       "            \"meta\": {}\n",
       "          },\n",
       "          {\n",
       "            \"success\": true,\n",
       "            \"result\": {\n",
       "              \"element_count\": 16598,\n",
       "              \"unexpected_count\": 0,\n",
       "              \"unexpected_percent\": 0.0,\n",
       "              \"partial_unexpected_list\": [],\n",
       "              \"missing_count\": 0,\n",
       "              \"missing_percent\": 0.0,\n",
       "              \"unexpected_percent_total\": 0.0,\n",
       "              \"unexpected_percent_nonmissing\": 0.0,\n",
       "              \"partial_unexpected_counts\": [],\n",
       "              \"partial_unexpected_index_list\": []\n",
       "            },\n",
       "            \"exception_info\": {\n",
       "              \"raised_exception\": false,\n",
       "              \"exception_traceback\": null,\n",
       "              \"exception_message\": null\n",
       "            },\n",
       "            \"expectation_config\": {\n",
       "              \"kwargs\": {\n",
       "                \"column\": \"year\",\n",
       "                \"max_value\": 2020,\n",
       "                \"min_value\": 1980,\n",
       "                \"batch_id\": \"data_clean-data1\"\n",
       "              },\n",
       "              \"meta\": {},\n",
       "              \"expectation_type\": \"expect_column_values_to_be_between\"\n",
       "            },\n",
       "            \"meta\": {}\n",
       "          },\n",
       "          {\n",
       "            \"success\": true,\n",
       "            \"result\": {\n",
       "              \"element_count\": 16598,\n",
       "              \"unexpected_count\": 0,\n",
       "              \"unexpected_percent\": 0.0,\n",
       "              \"partial_unexpected_list\": [],\n",
       "              \"missing_count\": 0,\n",
       "              \"missing_percent\": 0.0,\n",
       "              \"unexpected_percent_total\": 0.0,\n",
       "              \"unexpected_percent_nonmissing\": 0.0,\n",
       "              \"partial_unexpected_counts\": [],\n",
       "              \"partial_unexpected_index_list\": []\n",
       "            },\n",
       "            \"exception_info\": {\n",
       "              \"raised_exception\": false,\n",
       "              \"exception_traceback\": null,\n",
       "              \"exception_message\": null\n",
       "            },\n",
       "            \"expectation_config\": {\n",
       "              \"kwargs\": {\n",
       "                \"column\": \"genre\",\n",
       "                \"value_set\": [\n",
       "                  \"Platform\",\n",
       "                  \"Role-Playing\",\n",
       "                  \"Sports\",\n",
       "                  \"Misc\",\n",
       "                  \"Racing\",\n",
       "                  \"Action\",\n",
       "                  \"Puzzle\",\n",
       "                  \"Simulation\",\n",
       "                  \"Shooter\",\n",
       "                  \"Fighting\",\n",
       "                  \"Adventure\",\n",
       "                  \"Strategy\"\n",
       "                ],\n",
       "                \"batch_id\": \"data_clean-data1\"\n",
       "              },\n",
       "              \"meta\": {},\n",
       "              \"expectation_type\": \"expect_column_values_to_be_in_set\"\n",
       "            },\n",
       "            \"meta\": {}\n",
       "          },\n",
       "          {\n",
       "            \"success\": true,\n",
       "            \"result\": {\n",
       "              \"observed_value\": \"float64\"\n",
       "            },\n",
       "            \"exception_info\": {\n",
       "              \"raised_exception\": false,\n",
       "              \"exception_traceback\": null,\n",
       "              \"exception_message\": null\n",
       "            },\n",
       "            \"expectation_config\": {\n",
       "              \"kwargs\": {\n",
       "                \"column\": \"global_sales\",\n",
       "                \"type_list\": [\n",
       "                  \"integer\",\n",
       "                  \"float\"\n",
       "                ],\n",
       "                \"batch_id\": \"data_clean-data1\"\n",
       "              },\n",
       "              \"meta\": {},\n",
       "              \"expectation_type\": \"expect_column_values_to_be_in_type_list\"\n",
       "            },\n",
       "            \"meta\": {}\n",
       "          },\n",
       "          {\n",
       "            \"success\": true,\n",
       "            \"result\": {\n",
       "              \"observed_value\": 0.8166830292988796\n",
       "            },\n",
       "            \"exception_info\": {\n",
       "              \"raised_exception\": false,\n",
       "              \"exception_traceback\": null,\n",
       "              \"exception_message\": null\n",
       "            },\n",
       "            \"expectation_config\": {\n",
       "              \"kwargs\": {\n",
       "                \"column\": \"n_sales\",\n",
       "                \"max_value\": 1,\n",
       "                \"min_value\": 0,\n",
       "                \"batch_id\": \"data_clean-data1\"\n",
       "              },\n",
       "              \"meta\": {},\n",
       "              \"expectation_type\": \"expect_column_stdev_to_be_between\"\n",
       "            },\n",
       "            \"meta\": {}\n",
       "          },\n",
       "          {\n",
       "            \"success\": true,\n",
       "            \"result\": {\n",
       "              \"observed_value\": 0.0\n",
       "            },\n",
       "            \"exception_info\": {\n",
       "              \"raised_exception\": false,\n",
       "              \"exception_traceback\": null,\n",
       "              \"exception_message\": null\n",
       "            },\n",
       "            \"expectation_config\": {\n",
       "              \"kwargs\": {\n",
       "                \"column\": \"n_sales\",\n",
       "                \"max_value\": 0.1,\n",
       "                \"min_value\": 0,\n",
       "                \"batch_id\": \"data_clean-data1\"\n",
       "              },\n",
       "              \"meta\": {},\n",
       "              \"expectation_type\": \"expect_column_min_to_be_between\"\n",
       "            },\n",
       "            \"meta\": {}\n",
       "          },\n",
       "          {\n",
       "            \"success\": true,\n",
       "            \"result\": {\n",
       "              \"observed_value\": 0.30929064808220297\n",
       "            },\n",
       "            \"exception_info\": {\n",
       "              \"raised_exception\": false,\n",
       "              \"exception_traceback\": null,\n",
       "              \"exception_message\": null\n",
       "            },\n",
       "            \"expectation_config\": {\n",
       "              \"kwargs\": {\n",
       "                \"column\": \"j_sales\",\n",
       "                \"max_value\": 1,\n",
       "                \"min_value\": 0,\n",
       "                \"batch_id\": \"data_clean-data1\"\n",
       "              },\n",
       "              \"meta\": {},\n",
       "              \"expectation_type\": \"expect_column_stdev_to_be_between\"\n",
       "            },\n",
       "            \"meta\": {}\n",
       "          },\n",
       "          {\n",
       "            \"success\": true,\n",
       "            \"result\": {\n",
       "              \"observed_value\": 0.0\n",
       "            },\n",
       "            \"exception_info\": {\n",
       "              \"raised_exception\": false,\n",
       "              \"exception_traceback\": null,\n",
       "              \"exception_message\": null\n",
       "            },\n",
       "            \"expectation_config\": {\n",
       "              \"kwargs\": {\n",
       "                \"column\": \"j_sales\",\n",
       "                \"max_value\": 0.1,\n",
       "                \"min_value\": 0,\n",
       "                \"batch_id\": \"data_clean-data1\"\n",
       "              },\n",
       "              \"meta\": {},\n",
       "              \"expectation_type\": \"expect_column_min_to_be_between\"\n",
       "            },\n",
       "            \"meta\": {}\n",
       "          },\n",
       "          {\n",
       "            \"success\": true,\n",
       "            \"result\": {\n",
       "              \"observed_value\": 0.5053512312869116\n",
       "            },\n",
       "            \"exception_info\": {\n",
       "              \"raised_exception\": false,\n",
       "              \"exception_traceback\": null,\n",
       "              \"exception_message\": null\n",
       "            },\n",
       "            \"expectation_config\": {\n",
       "              \"kwargs\": {\n",
       "                \"column\": \"e_sales\",\n",
       "                \"max_value\": 1,\n",
       "                \"min_value\": 0,\n",
       "                \"batch_id\": \"data_clean-data1\"\n",
       "              },\n",
       "              \"meta\": {},\n",
       "              \"expectation_type\": \"expect_column_stdev_to_be_between\"\n",
       "            },\n",
       "            \"meta\": {}\n",
       "          },\n",
       "          {\n",
       "            \"success\": true,\n",
       "            \"result\": {\n",
       "              \"observed_value\": 0.0\n",
       "            },\n",
       "            \"exception_info\": {\n",
       "              \"raised_exception\": false,\n",
       "              \"exception_traceback\": null,\n",
       "              \"exception_message\": null\n",
       "            },\n",
       "            \"expectation_config\": {\n",
       "              \"kwargs\": {\n",
       "                \"column\": \"e_sales\",\n",
       "                \"max_value\": 0.1,\n",
       "                \"min_value\": 0,\n",
       "                \"batch_id\": \"data_clean-data1\"\n",
       "              },\n",
       "              \"meta\": {},\n",
       "              \"expectation_type\": \"expect_column_min_to_be_between\"\n",
       "            },\n",
       "            \"meta\": {}\n",
       "          },\n",
       "          {\n",
       "            \"success\": true,\n",
       "            \"result\": {\n",
       "              \"observed_value\": 16598\n",
       "            },\n",
       "            \"exception_info\": {\n",
       "              \"raised_exception\": false,\n",
       "              \"exception_traceback\": null,\n",
       "              \"exception_message\": null\n",
       "            },\n",
       "            \"expectation_config\": {\n",
       "              \"kwargs\": {\n",
       "                \"value\": 16598,\n",
       "                \"batch_id\": \"data_clean-data1\"\n",
       "              },\n",
       "              \"meta\": {},\n",
       "              \"expectation_type\": \"expect_table_row_count_to_equal\"\n",
       "            },\n",
       "            \"meta\": {}\n",
       "          }\n",
       "        ],\n",
       "        \"meta\": {\n",
       "          \"great_expectations_version\": \"0.18.8\",\n",
       "          \"expectation_suite_name\": \"expectation-1\",\n",
       "          \"run_id\": {\n",
       "            \"run_time\": \"2024-01-29T17:10:20.574454+08:00\",\n",
       "            \"run_name\": null\n",
       "          },\n",
       "          \"batch_spec\": {\n",
       "            \"reader_method\": \"read_csv\",\n",
       "            \"reader_options\": {\n",
       "              \"filepath_or_buffer\": \"C:\\\\Users\\\\Asus\\\\github-classroom\\\\FTDS-assignment-bay\\\\p2-ftds026-rmt-m3-yoigil\\\\P2M3_adriel_julius_sutanto_data_clean.csv\"\n",
       "            }\n",
       "          },\n",
       "          \"batch_markers\": {\n",
       "            \"ge_load_time\": \"20240129T091020.592713Z\",\n",
       "            \"pandas_data_fingerprint\": \"5814334d814add70f39eb1140ff3f0b5\"\n",
       "          },\n",
       "          \"active_batch_definition\": {\n",
       "            \"datasource_name\": \"data_clean\",\n",
       "            \"data_connector_name\": \"fluent\",\n",
       "            \"data_asset_name\": \"data1\",\n",
       "            \"batch_identifiers\": {}\n",
       "          },\n",
       "          \"validation_time\": \"20240129T091020.639002Z\",\n",
       "          \"checkpoint_name\": \"checkpoint_1\",\n",
       "          \"validation_id\": null,\n",
       "          \"checkpoint_id\": null\n",
       "        }\n",
       "      },\n",
       "      \"actions_results\": {\n",
       "        \"store_validation_result\": {\n",
       "          \"class\": \"StoreValidationResultAction\"\n",
       "        },\n",
       "        \"store_evaluation_params\": {\n",
       "          \"class\": \"StoreEvaluationParametersAction\"\n",
       "        },\n",
       "        \"update_data_docs\": {\n",
       "          \"local_site\": \"file://c:\\\\Users\\\\Asus\\\\github-classroom\\\\FTDS-assignment-bay\\\\p2-ftds026-rmt-m3-yoigil\\\\gx\\\\uncommitted/data_docs/local_site/validations%5Cexpectation-1%5C__none__%5C20240129T091020.574454Z%5Cdata_clean-data1.html\",\n",
       "          \"class\": \"UpdateDataDocsAction\"\n",
       "        }\n",
       "      }\n",
       "    }\n",
       "  },\n",
       "  \"checkpoint_config\": {\n",
       "    \"module_name\": \"great_expectations.checkpoint\",\n",
       "    \"default_validation_id\": null,\n",
       "    \"config_version\": 1.0,\n",
       "    \"ge_cloud_id\": null,\n",
       "    \"notify_on\": null,\n",
       "    \"run_name_template\": null,\n",
       "    \"expectation_suite_name\": null,\n",
       "    \"action_list\": [\n",
       "      {\n",
       "        \"name\": \"store_validation_result\",\n",
       "        \"action\": {\n",
       "          \"class_name\": \"StoreValidationResultAction\"\n",
       "        }\n",
       "      },\n",
       "      {\n",
       "        \"name\": \"store_evaluation_params\",\n",
       "        \"action\": {\n",
       "          \"class_name\": \"StoreEvaluationParametersAction\"\n",
       "        }\n",
       "      },\n",
       "      {\n",
       "        \"name\": \"update_data_docs\",\n",
       "        \"action\": {\n",
       "          \"class_name\": \"UpdateDataDocsAction\"\n",
       "        }\n",
       "      }\n",
       "    ],\n",
       "    \"evaluation_parameters\": {},\n",
       "    \"notify_with\": null,\n",
       "    \"expectation_suite_ge_cloud_id\": null,\n",
       "    \"class_name\": \"Checkpoint\",\n",
       "    \"profilers\": [],\n",
       "    \"validations\": [\n",
       "      {\n",
       "        \"batch_request\": {\n",
       "          \"datasource_name\": \"data_clean\",\n",
       "          \"data_asset_name\": \"data1\",\n",
       "          \"options\": {},\n",
       "          \"batch_slice\": null\n",
       "        },\n",
       "        \"id\": null,\n",
       "        \"expectation_suite_ge_cloud_id\": null,\n",
       "        \"name\": null,\n",
       "        \"expectation_suite_name\": \"expectation-1\"\n",
       "      }\n",
       "    ],\n",
       "    \"template_name\": null,\n",
       "    \"slack_webhook\": null,\n",
       "    \"batch_request\": {},\n",
       "    \"runtime_configuration\": {},\n",
       "    \"site_names\": null,\n",
       "    \"name\": \"checkpoint_1\"\n",
       "  },\n",
       "  \"success\": true\n",
       "}"
      ]
     },
     "execution_count": 19,
     "metadata": {},
     "output_type": "execute_result"
    }
   ],
   "source": [
    "# Run a checkpoint\n",
    "checkpoint_result = checkpoint_1.run()\n",
    "checkpoint_result"
   ]
  }
 ],
 "metadata": {
  "kernelspec": {
   "display_name": "new",
   "language": "python",
   "name": "python3"
  },
  "language_info": {
   "codemirror_mode": {
    "name": "ipython",
    "version": 3
   },
   "file_extension": ".py",
   "mimetype": "text/x-python",
   "name": "python",
   "nbconvert_exporter": "python",
   "pygments_lexer": "ipython3",
   "version": "3.9.18"
  }
 },
 "nbformat": 4,
 "nbformat_minor": 2
}
